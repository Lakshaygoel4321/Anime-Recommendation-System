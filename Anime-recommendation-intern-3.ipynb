{
 "cells": [
  {
   "cell_type": "markdown",
   "id": "c0dc91c1-2d20-4c6f-ae82-ce480ffdf632",
   "metadata": {},
   "source": [
    "\n",
    "# Importing all the Packages"
   ]
  },
  {
   "cell_type": "code",
   "execution_count": 266,
   "id": "066a35fb-4f49-44a2-9f43-5d30226432e7",
   "metadata": {},
   "outputs": [
    {
     "name": "stderr",
     "output_type": "stream",
     "text": [
      "[nltk_data] Downloading package stopwords to\n",
      "[nltk_data]     C:\\Users\\iamda\\AppData\\Roaming\\nltk_data...\n",
      "[nltk_data]   Package stopwords is already up-to-date!\n"
     ]
    }
   ],
   "source": [
    "\n",
    "import pandas as pd\n",
    "import numpy as np\n",
    "import matplotlib.pyplot as plt\n",
    "import warnings\n",
    "warnings.filterwarnings('ignore')\n",
    "import re\n",
    "import nltk\n",
    "nltk.download('stopwords')\n",
    "from nltk.corpus import stopwords\n",
    "from nltk.stem.porter import PorterStemmer\n",
    "import ast\n",
    "from sklearn.metrics.pairwise import cosine_similarity\n",
    "from sklearn.feature_extraction.text import CountVectorizer\n"
   ]
  },
  {
   "cell_type": "markdown",
   "id": "1584e23b-85d8-4d9d-8186-4ea59fb4d682",
   "metadata": {},
   "source": [
    "\n",
    "\n",
    "\n"
   ]
  },
  {
   "cell_type": "markdown",
   "id": "1c684c3c-2ae9-45f8-8b3b-970220ffafc7",
   "metadata": {},
   "source": [
    "\n",
    "# Importing the Datasets from Pandas Libraries"
   ]
  },
  {
   "cell_type": "code",
   "execution_count": 312,
   "id": "ded8831a-6f25-4411-9aac-ca5030ca1f3c",
   "metadata": {},
   "outputs": [],
   "source": [
    "\n",
    "df = pd.read_csv(r\"C:\\Users\\iamda\\OneDrive\\Desktop\\jupyter\\project\\only datasets here\\Anime_data.csv\")"
   ]
  },
  {
   "cell_type": "markdown",
   "id": "3cb255eb-0609-4201-828f-778f313eec22",
   "metadata": {},
   "source": [
    "\n",
    "# Show the Top 5 Rows"
   ]
  },
  {
   "cell_type": "code",
   "execution_count": 313,
   "id": "b1088c12-5e44-4032-81fd-7b1021c55d29",
   "metadata": {},
   "outputs": [
    {
     "data": {
      "text/html": [
       "<div>\n",
       "<style scoped>\n",
       "    .dataframe tbody tr th:only-of-type {\n",
       "        vertical-align: middle;\n",
       "    }\n",
       "\n",
       "    .dataframe tbody tr th {\n",
       "        vertical-align: top;\n",
       "    }\n",
       "\n",
       "    .dataframe thead th {\n",
       "        text-align: right;\n",
       "    }\n",
       "</style>\n",
       "<table border=\"1\" class=\"dataframe\">\n",
       "  <thead>\n",
       "    <tr style=\"text-align: right;\">\n",
       "      <th></th>\n",
       "      <th>Anime_id</th>\n",
       "      <th>Title</th>\n",
       "      <th>Genre</th>\n",
       "      <th>Synopsis</th>\n",
       "      <th>Type</th>\n",
       "      <th>Producer</th>\n",
       "      <th>Studio</th>\n",
       "      <th>Rating</th>\n",
       "      <th>ScoredBy</th>\n",
       "      <th>Popularity</th>\n",
       "      <th>Members</th>\n",
       "      <th>Episodes</th>\n",
       "      <th>Source</th>\n",
       "      <th>Aired</th>\n",
       "      <th>Link</th>\n",
       "    </tr>\n",
       "  </thead>\n",
       "  <tbody>\n",
       "    <tr>\n",
       "      <th>0</th>\n",
       "      <td>1</td>\n",
       "      <td>Cowboy Bebop</td>\n",
       "      <td>['Action', 'Adventure', 'Comedy', 'Drama', 'Sc...</td>\n",
       "      <td>In the year 2071, humanity has colonized sever...</td>\n",
       "      <td>TV</td>\n",
       "      <td>['Bandai Visual']</td>\n",
       "      <td>['Sunrise']</td>\n",
       "      <td>8.81</td>\n",
       "      <td>363889.0</td>\n",
       "      <td>39.0</td>\n",
       "      <td>704490.0</td>\n",
       "      <td>26.0</td>\n",
       "      <td>Original</td>\n",
       "      <td>Apr 3, 1998 to Apr 24, 1999</td>\n",
       "      <td>https://myanimelist.net/anime/1/Cowboy_Bebop</td>\n",
       "    </tr>\n",
       "    <tr>\n",
       "      <th>1</th>\n",
       "      <td>5</td>\n",
       "      <td>Cowboy Bebop: Tengoku no Tobira</td>\n",
       "      <td>['Action', 'Space', 'Drama', 'Mystery', 'Sci-Fi']</td>\n",
       "      <td>Another day, another bounty—such is the life o...</td>\n",
       "      <td>Movie</td>\n",
       "      <td>['Sunrise', 'Bandai Visual']</td>\n",
       "      <td>['Bones']</td>\n",
       "      <td>8.41</td>\n",
       "      <td>111187.0</td>\n",
       "      <td>475.0</td>\n",
       "      <td>179899.0</td>\n",
       "      <td>1.0</td>\n",
       "      <td>Original</td>\n",
       "      <td>Sep 1, 2001</td>\n",
       "      <td>https://myanimelist.net/anime/5/Cowboy_Bebop__...</td>\n",
       "    </tr>\n",
       "    <tr>\n",
       "      <th>2</th>\n",
       "      <td>6</td>\n",
       "      <td>Trigun</td>\n",
       "      <td>['Action', 'Sci-Fi', 'Adventure', 'Comedy', 'D...</td>\n",
       "      <td>Vash the Stampede is the man with a $$60,000,0...</td>\n",
       "      <td>TV</td>\n",
       "      <td>['Victor Entertainment']</td>\n",
       "      <td>['Madhouse']</td>\n",
       "      <td>8.31</td>\n",
       "      <td>197451.0</td>\n",
       "      <td>158.0</td>\n",
       "      <td>372709.0</td>\n",
       "      <td>26.0</td>\n",
       "      <td>Manga</td>\n",
       "      <td>Apr 1, 1998 to Sep 30, 1998</td>\n",
       "      <td>https://myanimelist.net/anime/6/Trigun</td>\n",
       "    </tr>\n",
       "    <tr>\n",
       "      <th>3</th>\n",
       "      <td>7</td>\n",
       "      <td>Witch Hunter Robin</td>\n",
       "      <td>['Action', 'Magic', 'Police', 'Supernatural', ...</td>\n",
       "      <td>Witches are individuals with special powers li...</td>\n",
       "      <td>TV</td>\n",
       "      <td>['Bandai Visual']</td>\n",
       "      <td>['Sunrise']</td>\n",
       "      <td>7.34</td>\n",
       "      <td>31875.0</td>\n",
       "      <td>1278.0</td>\n",
       "      <td>74889.0</td>\n",
       "      <td>26.0</td>\n",
       "      <td>Original</td>\n",
       "      <td>Jul 2, 2002 to Dec 24, 2002</td>\n",
       "      <td>https://myanimelist.net/anime/7/Witch_Hunter_R...</td>\n",
       "    </tr>\n",
       "    <tr>\n",
       "      <th>4</th>\n",
       "      <td>8</td>\n",
       "      <td>Bouken Ou Beet</td>\n",
       "      <td>['Adventure', 'Fantasy', 'Shounen', 'Supernatu...</td>\n",
       "      <td>It is the dark century and the people are suff...</td>\n",
       "      <td>TV</td>\n",
       "      <td>NaN</td>\n",
       "      <td>['Toei Animation']</td>\n",
       "      <td>7.04</td>\n",
       "      <td>4757.0</td>\n",
       "      <td>3968.0</td>\n",
       "      <td>11247.0</td>\n",
       "      <td>52.0</td>\n",
       "      <td>Manga</td>\n",
       "      <td>Sep 30, 2004 to Sep 29, 2005</td>\n",
       "      <td>https://myanimelist.net/anime/8/Bouken_Ou_Beet</td>\n",
       "    </tr>\n",
       "  </tbody>\n",
       "</table>\n",
       "</div>"
      ],
      "text/plain": [
       "   Anime_id                            Title  \\\n",
       "0         1                     Cowboy Bebop   \n",
       "1         5  Cowboy Bebop: Tengoku no Tobira   \n",
       "2         6                           Trigun   \n",
       "3         7               Witch Hunter Robin   \n",
       "4         8                   Bouken Ou Beet   \n",
       "\n",
       "                                               Genre  \\\n",
       "0  ['Action', 'Adventure', 'Comedy', 'Drama', 'Sc...   \n",
       "1  ['Action', 'Space', 'Drama', 'Mystery', 'Sci-Fi']   \n",
       "2  ['Action', 'Sci-Fi', 'Adventure', 'Comedy', 'D...   \n",
       "3  ['Action', 'Magic', 'Police', 'Supernatural', ...   \n",
       "4  ['Adventure', 'Fantasy', 'Shounen', 'Supernatu...   \n",
       "\n",
       "                                            Synopsis   Type  \\\n",
       "0  In the year 2071, humanity has colonized sever...     TV   \n",
       "1  Another day, another bounty—such is the life o...  Movie   \n",
       "2  Vash the Stampede is the man with a $$60,000,0...     TV   \n",
       "3  Witches are individuals with special powers li...     TV   \n",
       "4  It is the dark century and the people are suff...     TV   \n",
       "\n",
       "                       Producer              Studio  Rating  ScoredBy  \\\n",
       "0             ['Bandai Visual']         ['Sunrise']    8.81  363889.0   \n",
       "1  ['Sunrise', 'Bandai Visual']           ['Bones']    8.41  111187.0   \n",
       "2      ['Victor Entertainment']        ['Madhouse']    8.31  197451.0   \n",
       "3             ['Bandai Visual']         ['Sunrise']    7.34   31875.0   \n",
       "4                           NaN  ['Toei Animation']    7.04    4757.0   \n",
       "\n",
       "   Popularity   Members  Episodes    Source                         Aired  \\\n",
       "0        39.0  704490.0      26.0  Original   Apr 3, 1998 to Apr 24, 1999   \n",
       "1       475.0  179899.0       1.0  Original                   Sep 1, 2001   \n",
       "2       158.0  372709.0      26.0     Manga   Apr 1, 1998 to Sep 30, 1998   \n",
       "3      1278.0   74889.0      26.0  Original   Jul 2, 2002 to Dec 24, 2002   \n",
       "4      3968.0   11247.0      52.0     Manga  Sep 30, 2004 to Sep 29, 2005   \n",
       "\n",
       "                                                Link  \n",
       "0       https://myanimelist.net/anime/1/Cowboy_Bebop  \n",
       "1  https://myanimelist.net/anime/5/Cowboy_Bebop__...  \n",
       "2             https://myanimelist.net/anime/6/Trigun  \n",
       "3  https://myanimelist.net/anime/7/Witch_Hunter_R...  \n",
       "4     https://myanimelist.net/anime/8/Bouken_Ou_Beet  "
      ]
     },
     "execution_count": 313,
     "metadata": {},
     "output_type": "execute_result"
    }
   ],
   "source": [
    "df.head()"
   ]
  },
  {
   "cell_type": "markdown",
   "id": "7e5884a4-9ebe-49bf-96cf-a3f10f48af5d",
   "metadata": {},
   "source": [
    "\n"
   ]
  },
  {
   "cell_type": "markdown",
   "id": "16e14716-37f0-45c4-91db-9249f7a222f7",
   "metadata": {},
   "source": [
    "\n"
   ]
  },
  {
   "cell_type": "markdown",
   "id": "63253570-4a1b-4be7-b811-399d04475b7e",
   "metadata": {},
   "source": [
    "# About the project"
   ]
  },
  {
   "cell_type": "markdown",
   "id": "dfd63944-37c5-4fbc-b804-012f5ec00084",
   "metadata": {},
   "source": [
    "\n",
    "<h3>1. In this problem, I am creating a recommendation system using the cosine library. The datasetss being used is on anime-based datasets.\n",
    "<br>\n",
    "<br>\n",
    "2. If a user selects one anime,the system will display 5 other similar anime movie\n",
    "\n",
    "</h3>"
   ]
  },
  {
   "cell_type": "markdown",
   "id": "01bb0a58-3428-427a-82d8-b3690274fb7e",
   "metadata": {},
   "source": [
    "\n"
   ]
  },
  {
   "cell_type": "markdown",
   "id": "e78a032b-10e0-4aba-8be7-61b4f5bddcd5",
   "metadata": {},
   "source": [
    "\n",
    "## Shape of the datasets"
   ]
  },
  {
   "cell_type": "code",
   "execution_count": 314,
   "id": "9093f065-48d3-46ef-960c-63107c4ebc66",
   "metadata": {},
   "outputs": [
    {
     "name": "stdout",
     "output_type": "stream",
     "text": [
      "Size of the datasets: (17002, 15)\n"
     ]
    }
   ],
   "source": [
    "\n",
    "print(f\"Size of the datasets: {df.shape}\")"
   ]
  },
  {
   "cell_type": "markdown",
   "id": "5c926f9a-2545-440f-9c33-5fee4d844ad8",
   "metadata": {},
   "source": [
    "\n",
    "## Checking the null value"
   ]
  },
  {
   "cell_type": "code",
   "execution_count": 315,
   "id": "4b883515-160b-42db-8b20-c8b488416028",
   "metadata": {},
   "outputs": [
    {
     "data": {
      "text/plain": [
       "Anime_id         0\n",
       "Title            0\n",
       "Genre         2012\n",
       "Synopsis      1419\n",
       "Type           634\n",
       "Producer      9367\n",
       "Studio        9083\n",
       "Rating        2577\n",
       "ScoredBy      3775\n",
       "Popularity     634\n",
       "Members          0\n",
       "Episodes      2917\n",
       "Source        1927\n",
       "Aired          634\n",
       "Link           634\n",
       "dtype: int64"
      ]
     },
     "execution_count": 315,
     "metadata": {},
     "output_type": "execute_result"
    }
   ],
   "source": [
    "\n",
    "df.isnull().sum()"
   ]
  },
  {
   "cell_type": "markdown",
   "id": "ea0929d9-2445-4090-bb11-5cba09a34028",
   "metadata": {},
   "source": [
    "\n",
    "### There are many null values in this dataset"
   ]
  },
  {
   "cell_type": "markdown",
   "id": "9a7b41ba-15f4-4d19-bbe3-f1ac34ae3658",
   "metadata": {},
   "source": [
    "\n",
    "## Percentage"
   ]
  },
  {
   "cell_type": "code",
   "execution_count": 316,
   "id": "6b94dc09-7430-448f-bdad-54470e6eb44e",
   "metadata": {},
   "outputs": [
    {
     "data": {
      "text/plain": [
       "Anime_id       0.000000\n",
       "Title          0.000000\n",
       "Genre         11.833902\n",
       "Synopsis       8.346077\n",
       "Type           3.728973\n",
       "Producer      55.093518\n",
       "Studio        53.423127\n",
       "Rating        15.157040\n",
       "ScoredBy      22.203270\n",
       "Popularity     3.728973\n",
       "Members        0.000000\n",
       "Episodes      17.156805\n",
       "Source        11.333961\n",
       "Aired          3.728973\n",
       "Link           3.728973\n",
       "dtype: float64"
      ]
     },
     "execution_count": 316,
     "metadata": {},
     "output_type": "execute_result"
    }
   ],
   "source": [
    "\n",
    "df.isnull().mean()*100"
   ]
  },
  {
   "cell_type": "markdown",
   "id": "0944b70c-aeec-4777-956e-963d7f1fc8d8",
   "metadata": {},
   "source": [
    "\n"
   ]
  },
  {
   "cell_type": "markdown",
   "id": "a1ca7be7-69d7-41f4-8b48-bf16915ddd8e",
   "metadata": {},
   "source": [
    "\n",
    "## Checking the datatype"
   ]
  },
  {
   "cell_type": "code",
   "execution_count": 317,
   "id": "620c27d8-df3f-4524-844f-52e1d3ebdb74",
   "metadata": {},
   "outputs": [
    {
     "name": "stdout",
     "output_type": "stream",
     "text": [
      "<class 'pandas.core.frame.DataFrame'>\n",
      "RangeIndex: 17002 entries, 0 to 17001\n",
      "Data columns (total 15 columns):\n",
      " #   Column      Non-Null Count  Dtype  \n",
      "---  ------      --------------  -----  \n",
      " 0   Anime_id    17002 non-null  int64  \n",
      " 1   Title       17002 non-null  object \n",
      " 2   Genre       14990 non-null  object \n",
      " 3   Synopsis    15583 non-null  object \n",
      " 4   Type        16368 non-null  object \n",
      " 5   Producer    7635 non-null   object \n",
      " 6   Studio      7919 non-null   object \n",
      " 7   Rating      14425 non-null  float64\n",
      " 8   ScoredBy    13227 non-null  float64\n",
      " 9   Popularity  16368 non-null  float64\n",
      " 10  Members     17002 non-null  float64\n",
      " 11  Episodes    14085 non-null  float64\n",
      " 12  Source      15075 non-null  object \n",
      " 13  Aired       16368 non-null  object \n",
      " 14  Link        16368 non-null  object \n",
      "dtypes: float64(5), int64(1), object(9)\n",
      "memory usage: 1.9+ MB\n"
     ]
    }
   ],
   "source": [
    "\n",
    "df.info()"
   ]
  },
  {
   "cell_type": "markdown",
   "id": "0a148606-18f0-44ec-84c8-d371eca75525",
   "metadata": {},
   "source": [
    "\n"
   ]
  },
  {
   "cell_type": "markdown",
   "id": "876b83bc-9dbf-4a3b-b946-318e70f4565e",
   "metadata": {},
   "source": [
    "\n",
    "## Check duplicated rows"
   ]
  },
  {
   "cell_type": "code",
   "execution_count": 318,
   "id": "79933bb6-d074-402b-9167-be5351d29e5f",
   "metadata": {},
   "outputs": [
    {
     "name": "stdout",
     "output_type": "stream",
     "text": [
      "The number of duplication rows: 63\n"
     ]
    }
   ],
   "source": [
    "\n",
    "print(f\"The number of duplication rows: {df.duplicated().sum()}\")"
   ]
  },
  {
   "cell_type": "markdown",
   "id": "fa5ea541-60d3-4f97-8ee8-7b2e26b3a194",
   "metadata": {},
   "source": [
    "\n",
    "There are 63 duplicated row"
   ]
  },
  {
   "cell_type": "markdown",
   "id": "07f186fe-83ff-4c67-a325-1eeb740ba6ac",
   "metadata": {},
   "source": [
    "\n",
    "## Droping the Duplicated rows"
   ]
  },
  {
   "cell_type": "code",
   "execution_count": 320,
   "id": "85b4f0ab-3ab6-4e55-80f7-093bb60d726f",
   "metadata": {},
   "outputs": [
    {
     "name": "stdout",
     "output_type": "stream",
     "text": [
      "After removing duplicated rows: 0\n"
     ]
    }
   ],
   "source": [
    "df.drop_duplicates(inplace=True)\n",
    "print(f\"After removing duplicated rows: {df.duplicated().sum()}\")"
   ]
  },
  {
   "cell_type": "markdown",
   "id": "31b7a96a-2835-4f1d-9c5c-d10382930a05",
   "metadata": {},
   "source": [
    "\n"
   ]
  },
  {
   "cell_type": "markdown",
   "id": "e477da0d-0d7d-4c5f-b91b-d7523fdfc5a5",
   "metadata": {},
   "source": [
    "\n",
    "## Statistics technique"
   ]
  },
  {
   "cell_type": "code",
   "execution_count": 321,
   "id": "bebdf27f-1822-4918-b1af-ab385d66071b",
   "metadata": {},
   "outputs": [
    {
     "data": {
      "text/html": [
       "<div>\n",
       "<style scoped>\n",
       "    .dataframe tbody tr th:only-of-type {\n",
       "        vertical-align: middle;\n",
       "    }\n",
       "\n",
       "    .dataframe tbody tr th {\n",
       "        vertical-align: top;\n",
       "    }\n",
       "\n",
       "    .dataframe thead th {\n",
       "        text-align: right;\n",
       "    }\n",
       "</style>\n",
       "<table border=\"1\" class=\"dataframe\">\n",
       "  <thead>\n",
       "    <tr style=\"text-align: right;\">\n",
       "      <th></th>\n",
       "      <th>Anime_id</th>\n",
       "      <th>Rating</th>\n",
       "      <th>ScoredBy</th>\n",
       "      <th>Popularity</th>\n",
       "      <th>Members</th>\n",
       "      <th>Episodes</th>\n",
       "    </tr>\n",
       "  </thead>\n",
       "  <tbody>\n",
       "    <tr>\n",
       "      <th>count</th>\n",
       "      <td>16939.000000</td>\n",
       "      <td>14390.000000</td>\n",
       "      <td>1.318900e+04</td>\n",
       "      <td>16305.000000</td>\n",
       "      <td>1.693900e+04</td>\n",
       "      <td>14044.000000</td>\n",
       "    </tr>\n",
       "    <tr>\n",
       "      <th>mean</th>\n",
       "      <td>20428.324517</td>\n",
       "      <td>6.285270</td>\n",
       "      <td>1.134638e+04</td>\n",
       "      <td>8149.880037</td>\n",
       "      <td>2.031810e+04</td>\n",
       "      <td>11.489747</td>\n",
       "    </tr>\n",
       "    <tr>\n",
       "      <th>std</th>\n",
       "      <td>14335.218181</td>\n",
       "      <td>1.141218</td>\n",
       "      <td>4.327876e+04</td>\n",
       "      <td>4712.735509</td>\n",
       "      <td>7.121438e+04</td>\n",
       "      <td>44.148682</td>\n",
       "    </tr>\n",
       "    <tr>\n",
       "      <th>min</th>\n",
       "      <td>1.000000</td>\n",
       "      <td>1.000000</td>\n",
       "      <td>1.000000e+00</td>\n",
       "      <td>1.000000</td>\n",
       "      <td>0.000000e+00</td>\n",
       "      <td>1.000000</td>\n",
       "    </tr>\n",
       "    <tr>\n",
       "      <th>25%</th>\n",
       "      <td>5579.500000</td>\n",
       "      <td>5.610000</td>\n",
       "      <td>4.300000e+01</td>\n",
       "      <td>4067.000000</td>\n",
       "      <td>1.450000e+02</td>\n",
       "      <td>1.000000</td>\n",
       "    </tr>\n",
       "    <tr>\n",
       "      <th>50%</th>\n",
       "      <td>21275.000000</td>\n",
       "      <td>6.410000</td>\n",
       "      <td>4.740000e+02</td>\n",
       "      <td>8140.000000</td>\n",
       "      <td>1.104000e+03</td>\n",
       "      <td>1.000000</td>\n",
       "    </tr>\n",
       "    <tr>\n",
       "      <th>75%</th>\n",
       "      <td>34757.500000</td>\n",
       "      <td>7.090000</td>\n",
       "      <td>3.785000e+03</td>\n",
       "      <td>12227.000000</td>\n",
       "      <td>7.802000e+03</td>\n",
       "      <td>12.000000</td>\n",
       "    </tr>\n",
       "    <tr>\n",
       "      <th>max</th>\n",
       "      <td>40960.000000</td>\n",
       "      <td>10.000000</td>\n",
       "      <td>1.006242e+06</td>\n",
       "      <td>16338.000000</td>\n",
       "      <td>1.451708e+06</td>\n",
       "      <td>1818.000000</td>\n",
       "    </tr>\n",
       "  </tbody>\n",
       "</table>\n",
       "</div>"
      ],
      "text/plain": [
       "           Anime_id        Rating      ScoredBy    Popularity       Members  \\\n",
       "count  16939.000000  14390.000000  1.318900e+04  16305.000000  1.693900e+04   \n",
       "mean   20428.324517      6.285270  1.134638e+04   8149.880037  2.031810e+04   \n",
       "std    14335.218181      1.141218  4.327876e+04   4712.735509  7.121438e+04   \n",
       "min        1.000000      1.000000  1.000000e+00      1.000000  0.000000e+00   \n",
       "25%     5579.500000      5.610000  4.300000e+01   4067.000000  1.450000e+02   \n",
       "50%    21275.000000      6.410000  4.740000e+02   8140.000000  1.104000e+03   \n",
       "75%    34757.500000      7.090000  3.785000e+03  12227.000000  7.802000e+03   \n",
       "max    40960.000000     10.000000  1.006242e+06  16338.000000  1.451708e+06   \n",
       "\n",
       "           Episodes  \n",
       "count  14044.000000  \n",
       "mean      11.489747  \n",
       "std       44.148682  \n",
       "min        1.000000  \n",
       "25%        1.000000  \n",
       "50%        1.000000  \n",
       "75%       12.000000  \n",
       "max     1818.000000  "
      ]
     },
     "execution_count": 321,
     "metadata": {},
     "output_type": "execute_result"
    }
   ],
   "source": [
    "\n",
    "df.describe()"
   ]
  },
  {
   "cell_type": "markdown",
   "id": "8b31acd1-6365-4ebf-82f2-8d616c779a95",
   "metadata": {},
   "source": [
    "\n",
    "## Seperate the Categorical columns and Numerical columns."
   ]
  },
  {
   "cell_type": "code",
   "execution_count": 322,
   "id": "06d84d01-9ffd-47f9-9318-6853fbc7f0b9",
   "metadata": {},
   "outputs": [
    {
     "name": "stdout",
     "output_type": "stream",
     "text": [
      "we have 6 numerical feature ['Anime_id', 'Rating', 'ScoredBy', 'Popularity', 'Members', 'Episodes']\n",
      "we have 9 categorical feature ['Title', 'Genre', 'Synopsis', 'Type', 'Producer', 'Studio', 'Source', 'Aired', 'Link']\n"
     ]
    }
   ],
   "source": [
    "\n",
    "# define numerical and categorical\n",
    "numerical_feature = [feature for feature in df.columns if df[feature].dtype != 'O']\n",
    "categorical_feature = [feature for feature in df.columns if df[feature].dtype == 'O']\n",
    "# print\n",
    "print(f\"we have {len(numerical_feature)} numerical feature {numerical_feature}\")\n",
    "print(f\"we have {len(categorical_feature)} categorical feature {categorical_feature}\")\n"
   ]
  },
  {
   "cell_type": "markdown",
   "id": "7c9a8d4e-970d-4729-8266-bc7cfbede2da",
   "metadata": {},
   "source": [
    "\n"
   ]
  },
  {
   "cell_type": "markdown",
   "id": "62abb67b-5c6a-4d1a-ad01-a0e00e644701",
   "metadata": {},
   "source": [
    "\n",
    "# Data Preprocessing"
   ]
  },
  {
   "cell_type": "markdown",
   "id": "15d1f7d7-70ad-4929-8535-09c7afbac35f",
   "metadata": {},
   "source": [
    "\n",
    "## Selecting the important features for this project\n",
    "\n",
    "1. Title\n",
    "\n",
    "2. Genre\n",
    "\n",
    "3. Synopsis\n",
    "\n",
    "4. Type\n",
    "\n",
    "These are the important columns"
   ]
  },
  {
   "cell_type": "markdown",
   "id": "1b01f6c0-cd4a-4efe-811d-fd1bd3fee236",
   "metadata": {},
   "source": [
    "\n"
   ]
  },
  {
   "cell_type": "markdown",
   "id": "40f4dce5-8651-4761-a939-b9ef967ced36",
   "metadata": {},
   "source": [
    "\n",
    "## Now droping all extra columns"
   ]
  },
  {
   "cell_type": "code",
   "execution_count": 323,
   "id": "828f979e-37f5-4322-84ef-a81fa0449d89",
   "metadata": {},
   "outputs": [],
   "source": [
    "\n",
    "df2 = df[['Title','Genre','Synopsis','Type']]"
   ]
  },
  {
   "cell_type": "markdown",
   "id": "9331fcee-8ab2-487a-905a-7ad0da23f7fb",
   "metadata": {},
   "source": [
    "\n",
    "## And droped all the null values using dropna"
   ]
  },
  {
   "cell_type": "code",
   "execution_count": 324,
   "id": "c3afdfb8-d34a-4354-b1b1-6bebc733d1f7",
   "metadata": {},
   "outputs": [],
   "source": [
    "\n",
    "df2.dropna(inplace=True)"
   ]
  },
  {
   "cell_type": "markdown",
   "id": "b0618e9c-fdf3-4ff4-9747-862d57cd8695",
   "metadata": {},
   "source": [
    "\n"
   ]
  },
  {
   "cell_type": "markdown",
   "id": "8abb3d1d-d83d-44fd-b62c-893fe6fb07af",
   "metadata": {},
   "source": [
    "\n",
    "## Show Top 5 Rows"
   ]
  },
  {
   "cell_type": "code",
   "execution_count": 325,
   "id": "0dd9a90b-43ad-4066-81b3-3850984aa1e1",
   "metadata": {},
   "outputs": [
    {
     "data": {
      "text/html": [
       "<div>\n",
       "<style scoped>\n",
       "    .dataframe tbody tr th:only-of-type {\n",
       "        vertical-align: middle;\n",
       "    }\n",
       "\n",
       "    .dataframe tbody tr th {\n",
       "        vertical-align: top;\n",
       "    }\n",
       "\n",
       "    .dataframe thead th {\n",
       "        text-align: right;\n",
       "    }\n",
       "</style>\n",
       "<table border=\"1\" class=\"dataframe\">\n",
       "  <thead>\n",
       "    <tr style=\"text-align: right;\">\n",
       "      <th></th>\n",
       "      <th>Title</th>\n",
       "      <th>Genre</th>\n",
       "      <th>Synopsis</th>\n",
       "      <th>Type</th>\n",
       "    </tr>\n",
       "  </thead>\n",
       "  <tbody>\n",
       "    <tr>\n",
       "      <th>0</th>\n",
       "      <td>Cowboy Bebop</td>\n",
       "      <td>['Action', 'Adventure', 'Comedy', 'Drama', 'Sc...</td>\n",
       "      <td>In the year 2071, humanity has colonized sever...</td>\n",
       "      <td>TV</td>\n",
       "    </tr>\n",
       "    <tr>\n",
       "      <th>1</th>\n",
       "      <td>Cowboy Bebop: Tengoku no Tobira</td>\n",
       "      <td>['Action', 'Space', 'Drama', 'Mystery', 'Sci-Fi']</td>\n",
       "      <td>Another day, another bounty—such is the life o...</td>\n",
       "      <td>Movie</td>\n",
       "    </tr>\n",
       "    <tr>\n",
       "      <th>2</th>\n",
       "      <td>Trigun</td>\n",
       "      <td>['Action', 'Sci-Fi', 'Adventure', 'Comedy', 'D...</td>\n",
       "      <td>Vash the Stampede is the man with a $$60,000,0...</td>\n",
       "      <td>TV</td>\n",
       "    </tr>\n",
       "    <tr>\n",
       "      <th>3</th>\n",
       "      <td>Witch Hunter Robin</td>\n",
       "      <td>['Action', 'Magic', 'Police', 'Supernatural', ...</td>\n",
       "      <td>Witches are individuals with special powers li...</td>\n",
       "      <td>TV</td>\n",
       "    </tr>\n",
       "    <tr>\n",
       "      <th>4</th>\n",
       "      <td>Bouken Ou Beet</td>\n",
       "      <td>['Adventure', 'Fantasy', 'Shounen', 'Supernatu...</td>\n",
       "      <td>It is the dark century and the people are suff...</td>\n",
       "      <td>TV</td>\n",
       "    </tr>\n",
       "  </tbody>\n",
       "</table>\n",
       "</div>"
      ],
      "text/plain": [
       "                             Title  \\\n",
       "0                     Cowboy Bebop   \n",
       "1  Cowboy Bebop: Tengoku no Tobira   \n",
       "2                           Trigun   \n",
       "3               Witch Hunter Robin   \n",
       "4                   Bouken Ou Beet   \n",
       "\n",
       "                                               Genre  \\\n",
       "0  ['Action', 'Adventure', 'Comedy', 'Drama', 'Sc...   \n",
       "1  ['Action', 'Space', 'Drama', 'Mystery', 'Sci-Fi']   \n",
       "2  ['Action', 'Sci-Fi', 'Adventure', 'Comedy', 'D...   \n",
       "3  ['Action', 'Magic', 'Police', 'Supernatural', ...   \n",
       "4  ['Adventure', 'Fantasy', 'Shounen', 'Supernatu...   \n",
       "\n",
       "                                            Synopsis   Type  \n",
       "0  In the year 2071, humanity has colonized sever...     TV  \n",
       "1  Another day, another bounty—such is the life o...  Movie  \n",
       "2  Vash the Stampede is the man with a $$60,000,0...     TV  \n",
       "3  Witches are individuals with special powers li...     TV  \n",
       "4  It is the dark century and the people are suff...     TV  "
      ]
     },
     "execution_count": 325,
     "metadata": {},
     "output_type": "execute_result"
    }
   ],
   "source": [
    "\n",
    "df2.head()"
   ]
  },
  {
   "cell_type": "markdown",
   "id": "b02e4d04-99aa-4119-ba00-8fb0b3674069",
   "metadata": {},
   "source": [
    "\n"
   ]
  },
  {
   "cell_type": "markdown",
   "id": "2bdbe95c-3e69-4a23-ad71-2dae9562ad7c",
   "metadata": {},
   "source": [
    "\n",
    "## Again checking the null value"
   ]
  },
  {
   "cell_type": "code",
   "execution_count": 326,
   "id": "80caeceb-e31a-4f27-9a4b-197572111e25",
   "metadata": {},
   "outputs": [
    {
     "data": {
      "text/plain": [
       "Title       0\n",
       "Genre       0\n",
       "Synopsis    0\n",
       "Type        0\n",
       "dtype: int64"
      ]
     },
     "execution_count": 326,
     "metadata": {},
     "output_type": "execute_result"
    }
   ],
   "source": [
    "\n",
    "df2.isnull().sum()"
   ]
  },
  {
   "cell_type": "markdown",
   "id": "72873531-7398-4b94-9fb6-672fb47c49f5",
   "metadata": {},
   "source": [
    "\n",
    "## Again Checking the shape of the dataset"
   ]
  },
  {
   "cell_type": "code",
   "execution_count": 327,
   "id": "2fc32f89-26db-4d1f-9747-167378195852",
   "metadata": {},
   "outputs": [
    {
     "name": "stdout",
     "output_type": "stream",
     "text": [
      "Size of the datasets: (13689, 4)\n"
     ]
    }
   ],
   "source": [
    "\n",
    "print(f\"Size of the datasets: {df2.shape}\")"
   ]
  },
  {
   "cell_type": "markdown",
   "id": "a5813034-2b6d-4cfa-a844-ed72f6264c6a",
   "metadata": {},
   "source": [
    "\n"
   ]
  },
  {
   "cell_type": "markdown",
   "id": "7325b551-6052-4fbb-84d3-0bd72b8add76",
   "metadata": {},
   "source": [
    "\n",
    "# Feature Enginnering"
   ]
  },
  {
   "cell_type": "markdown",
   "id": "a6b97a3f-07c8-4036-bb63-31be6795d60c",
   "metadata": {},
   "source": [
    "\n"
   ]
  },
  {
   "cell_type": "markdown",
   "id": "d7b47099-8aa2-4248-b39f-ac929d12c7ec",
   "metadata": {},
   "source": [
    "\n",
    "## Proportion of count data "
   ]
  },
  {
   "cell_type": "code",
   "execution_count": 328,
   "id": "ad4eeeb4-fb8b-4a81-81e9-92ed42a27df7",
   "metadata": {
    "scrolled": true
   },
   "outputs": [
    {
     "name": "stdout",
     "output_type": "stream",
     "text": [
      "Title\n",
      "Castlevania                           0.100360\n",
      "RWBY                                  0.029518\n",
      "Mutafukaz                             0.029518\n",
      "Avatar: The Last Airbender            0.029518\n",
      "Highschool DxD Hero                   0.023614\n",
      "                                        ...   \n",
      "Detective Conan vs. Wooo              0.005904\n",
      "Mahou Shoujo Elena                    0.005904\n",
      "Soccer Fever                          0.005904\n",
      "SKET Dance: Tettei Bunseki Special    0.005904\n",
      "Original C-V-P Momoko                 0.005904\n",
      "Name: proportion, Length: 16737, dtype: float64\n",
      "--------------------------------\n",
      "Genre\n",
      "['Hentai']                                                            5.466604\n",
      "['Music']                                                             4.662692\n",
      "['Comedy']                                                            4.006163\n",
      "['Kids']                                                              2.518925\n",
      "['Slice of Life']                                                     1.286260\n",
      "                                                                        ...   \n",
      "['Action', 'Hentai', 'Comedy', 'Demons', 'Martial Arts', 'School']    0.006699\n",
      "['Military', 'Adventure', 'Comedy']                                   0.006699\n",
      "['Action', 'Comedy', 'Kids', 'Vampire']                               0.006699\n",
      "['Action', 'Martial Arts', 'Sports']                                  0.006699\n",
      "['Action', 'Fantasy', 'Horror', 'Martial Arts', 'Samurai']            0.006699\n",
      "Name: proportion, Length: 4577, dtype: float64\n",
      "--------------------------------\n",
      "Synopsis\n",
      "No synopsis has been added for this series yet. \\r\\n \\r\\n Click here  to update this information.                                                                                                                                                                                                                                                                                                                                                                                                                                                                                                                                                                                                                                                                                                                                                                                                                                                                                                      0.238264\n",
      "Film by Takashi Ito.                                                                                                                                                                                                                                                                                                                                                                                                                                                                                                                                                                                                                                                                                                                                                                                                                                                                                                                                                                                   0.083714\n",
      "Furukawa Taku film.                                                                                                                                                                                                                                                                                                                                                                                                                                                                                                                                                                                                                                                                                                                                                                                                                                                                                                                                                                                    0.077275\n",
      "A short film by Okamoto Tadanari.                                                                                                                                                                                                                                                                                                                                                                                                                                                                                                                                                                                                                                                                                                                                                                                                                                                                                                                                                                      0.051517\n",
      "Short animation by Rapparu.                                                                                                                                                                                                                                                                                                                                                                                                                                                                                                                                                                                                                                                                                                                                                                                                                                                                                                                                                                            0.051517\n",
      "                                                                                                                                                                                                                                                                                                                                                                                                                                                                                                                                                                                                                                                                                                                                                                                                                                                                                                                                                                                                         ...   \n",
      "Thirteen years have passed. Following an injury that put Gorou's career as a pitcher into a standstill, he prepares to restart his baseball career as a fielder. His family struggles with his decisions, especially his daughter Izumi, who doesn't know enough about her father to understand why he is so absent from their lives. Gorou will stop at nothing until he's in the game once again; everything is now for the sake of the only gift he has to offer his children: Baseball.  \\r\\n                                                                                                                                                                                                                                                                                                                                                                                                                                                                                                      0.006440\n",
      "Kanon Town is filled with music. Hibiki Houjou and Kanade Minamino have grown up in this town and have known each other since they were children. However, they no longer get along. \\r\\n \\r\\nOne day the fairy Hummy from the land of music, Major Land, appears before them. The evil king Mephisto of Minor Land is planning to turn the legendary Melody of Happiness into the Melody of Misfortune. To prevent this from happening, Hibiki and Kanade transform themselves into Pretty Cure. \\r\\n \\r\\nKanade and Hibiki have to learn to work together to collect the scattered notes of the Melody of Happiness in order to recreate the score!                                                                                                                                                                                                                                                                                                                                                  0.006440\n",
      "A surrealistic short from minimalist cartoonist Kuri Yoji.                                                                                                                                                                                                                                                                                                                                                                                                                                                                                                                                                                                                                                                                                                                                                                                                                                                                                                                                             0.006440\n",
      "Hamster daily life.                                                                                                                                                                                                                                                                                                                                                                                                                                                                                                                                                                                                                                                                                                                                                                                                                                                                                                                                                                                    0.006440\n",
      "Two years ago, Junichi Tachibana had a date on Christmas Eve but was stood up instead. Since then, he has had a hard time showing others his true feelings in fear of being rejected again. However, as luck would have it, Junichi may have a second chance at love when he meets several girls whom he becomes romantically interested in: Haruka Morishima, the energetic and popular upperclassman with a love for cute things; Kaoru Tanamachi, his childhood friend who harbors secret feelings for him; Sae Nakata, the timid transfer student who is shy around men; Ai Nanasaki, a girl on the swim team who has a bad first impression of Junichi; Rihoko Sakurai, a childhood friend with a love for sweets; and Tsukasa Ayatsuji, a seemingly perfect class representative who has a hidden dark side. As Christmas Eve approaches, Junichi can only hope that this will be the year he will finally spend the holidays with the one he truly loves. \\r\\n  \\r\\n[Written by MAL Rewrite]    0.006440\n",
      "Name: proportion, Length: 15194, dtype: float64\n",
      "--------------------------------\n",
      "Type\n",
      "TV         29.138301\n",
      "OVA        23.679853\n",
      "Movie      17.497700\n",
      "Special    13.253603\n",
      "ONA         9.193499\n",
      "Music       7.010120\n",
      "Unknown     0.226924\n",
      "Name: proportion, dtype: float64\n",
      "--------------------------------\n",
      "Producer\n",
      "['NHK']                                 5.603051\n",
      "['Sanrio']                              1.933447\n",
      "['Pink Pineapple']                      1.880837\n",
      "['Bandai Visual']                       1.459950\n",
      "['Fuji TV']                             1.236354\n",
      "                                          ...   \n",
      "['Ripple Film']                         0.013153\n",
      "['Square Enix', 'Starchild Records']    0.013153\n",
      "['Amino']                               0.013153\n",
      "['Y.O.U.C', 'Media Blasters']           0.013153\n",
      "['Asmik Ace']                           0.013153\n",
      "Name: proportion, Length: 3005, dtype: float64\n",
      "--------------------------------\n",
      "Studio\n",
      "['Toei Animation']                            8.169479\n",
      "['Sunrise']                                   4.998097\n",
      "['Madhouse']                                  3.564633\n",
      "['J.C.Staff']                                 3.539262\n",
      "['Production I.G']                            2.930356\n",
      "                                                ...   \n",
      "['Toei Animation', 'Tatsunoko Production']    0.012686\n",
      "['Nippon Animation', 'Shaft']                 0.012686\n",
      "['AIC', 'Darts']                              0.012686\n",
      "['Front Line', 'Studio G-1Neo']               0.012686\n",
      "['Tokyo Media Connections']                   0.012686\n",
      "Name: proportion, Length: 777, dtype: float64\n",
      "--------------------------------\n",
      "Source\n",
      "Unknown          26.592060\n",
      "Original         25.905942\n",
      "Manga            20.696776\n",
      "Visual novel      5.448974\n",
      "Game              4.776179\n",
      "Light novel       3.783640\n",
      "Other             3.184119\n",
      "Novel             2.517986\n",
      "Music             2.498002\n",
      "4-koma manga      1.545430\n",
      "Web manga         1.225686\n",
      "Picture book      0.712763\n",
      "Book              0.606182\n",
      "Card game         0.366374\n",
      "Digital manga     0.079936\n",
      "Radio             0.059952\n",
      "Name: proportion, dtype: float64\n",
      "--------------------------------\n",
      "Aired\n",
      "Not available                   1.760196\n",
      "2005                            0.337320\n",
      "2004                            0.275989\n",
      "2003                            0.263723\n",
      "2008                            0.257590\n",
      "                                  ...   \n",
      "Mar 29, 2010 to ?               0.006133\n",
      "Mar 27, 2010                    0.006133\n",
      "Nov 20, 2006 to Dec 25, 2006    0.006133\n",
      "Nov 23, 2007                    0.006133\n",
      "Jul 2, 2010 to Dec 24, 2010     0.006133\n",
      "Name: proportion, Length: 11127, dtype: float64\n",
      "--------------------------------\n",
      "Link\n",
      "https://myanimelist.net/anime/2990/Mini_Skirt_Gakuen                                     0.012266\n",
      "https://myanimelist.net/anime/37176/Doupo_Cangqiong_2nd_Season                           0.012266\n",
      "https://myanimelist.net/anime/34284/Yuuki_Yuuna_wa_Yuusha_de_Aru__Washio_Sumi_no_Shou    0.012266\n",
      "https://myanimelist.net/anime/39535/Mushoku_Tensei__Isekai_Ittara_Honki_Dasu             0.012266\n",
      "https://myanimelist.net/anime/1699/Romeo_x_Juliet                                        0.012266\n",
      "                                                                                           ...   \n",
      "https://myanimelist.net/anime/10463/Exper_Zenon                                          0.006133\n",
      "https://myanimelist.net/anime/10464/Seitokai_no_Ichizon_Lv2                              0.006133\n",
      "https://myanimelist.net/anime/10465/Manyuu_Hikenchou                                     0.006133\n",
      "https://myanimelist.net/anime/10466/Phantom_Yuusha_Densetsu                              0.006133\n",
      "https://myanimelist.net/anime/8676/Amagami_SS                                            0.006133\n",
      "Name: proportion, Length: 16216, dtype: float64\n",
      "--------------------------------\n"
     ]
    }
   ],
   "source": [
    "\n",
    "for col in categorical_feature:\n",
    "    print(df[col].value_counts(normalize=True)*100)\n",
    "    print(\"--------------------------------\")"
   ]
  },
  {
   "cell_type": "markdown",
   "id": "b567516e-4446-4d11-a2d2-a38df117da98",
   "metadata": {},
   "source": [
    "\n"
   ]
  },
  {
   "cell_type": "markdown",
   "id": "0dc71255-ae74-4e03-a310-8d9cc3454181",
   "metadata": {},
   "source": [
    "\n",
    "## Randomly Checking the data"
   ]
  },
  {
   "cell_type": "code",
   "execution_count": 329,
   "id": "12491c64-dd0d-4bd1-bc16-22624f15f044",
   "metadata": {},
   "outputs": [
    {
     "data": {
      "text/plain": [
       "\"['Action', 'Adventure', 'Comedy', 'Drama', 'Sci-Fi', 'Space']\""
      ]
     },
     "execution_count": 329,
     "metadata": {},
     "output_type": "execute_result"
    }
   ],
   "source": [
    "\n",
    "df2['Genre'][0]"
   ]
  },
  {
   "cell_type": "code",
   "execution_count": 330,
   "id": "eccec807-41eb-4765-8445-705b79ceaed9",
   "metadata": {},
   "outputs": [
    {
     "data": {
      "text/plain": [
       "\"['Action', 'Adventure', 'Comedy', 'Super Power', 'Martial Arts', 'Shounen']\""
      ]
     },
     "execution_count": 330,
     "metadata": {},
     "output_type": "execute_result"
    }
   ],
   "source": [
    "df2['Genre'][10]"
   ]
  },
  {
   "cell_type": "code",
   "execution_count": 331,
   "id": "4252c820-e0c7-4631-bedc-9d912f73904f",
   "metadata": {},
   "outputs": [
    {
     "data": {
      "text/plain": [
       "\"['Adventure', 'Comedy', 'Romance', 'Fantasy']\""
      ]
     },
     "execution_count": 331,
     "metadata": {},
     "output_type": "execute_result"
    }
   ],
   "source": [
    "df2['Genre'][100]"
   ]
  },
  {
   "cell_type": "code",
   "execution_count": 332,
   "id": "4f846f61-3d2c-4399-8c94-d6d7f29a1617",
   "metadata": {},
   "outputs": [
    {
     "data": {
      "text/plain": [
       "'In the year 2071, humanity has colonized several of the planets and moons of the solar system leaving the now uninhabitable surface of planet Earth behind. The Inter Solar System Police attempts to keep peace in the galaxy, aided in part by outlaw bounty hunters, referred to as \"Cowboys.\" The ragtag team aboard the spaceship Bebop are two such individuals. \\r\\n  \\r\\nMellow and carefree Spike Spiegel is balanced by his boisterous, pragmatic partner Jet Black as the pair makes a living chasing bounties and collecting rewards. Thrown off course by the addition of new members that they meet in their travels—Ein, a genetically engineered, highly intelligent Welsh Corgi; femme fatale Faye Valentine, an enigmatic trickster with memory loss; and the strange computer whiz kid Edward Wong—the crew embarks on thrilling adventures that unravel each member\\'s dark and mysterious past little by little. \\r\\n \\r\\nWell-balanced with high density action and light-hearted comedy,  Cowboy Bebop  is a space Western classic and an homage to the smooth and improvised music it is named after. \\r\\n \\r\\n[Written by MAL Rewrite]'"
      ]
     },
     "execution_count": 332,
     "metadata": {},
     "output_type": "execute_result"
    }
   ],
   "source": [
    "\n",
    "df2['Synopsis'][0]"
   ]
  },
  {
   "cell_type": "code",
   "execution_count": 333,
   "id": "ef4d9377-7870-43ba-bb19-e1b1082b701d",
   "metadata": {},
   "outputs": [
    {
     "data": {
      "text/plain": [
       "'Makoto Mizuhara is working on his latest experiment in the school science lab, but when he takes a break his lifelong rival Katsuhiko Jinnai shows up and attempts to destroy the device and discredit Makoto. This overloads the experiment and transports Makoto, Jinnai, his sister Nanami, and their teacher Mr. Fujisawa to the strange and magnificent world El Hazard. Makoto and Fujisawa land squarely in the Kingdom of Roshtaria, and quickly befriend the princess Rune Venus. Jinnai allies himself with the Bugrom, a race of giant insects bent on taking over El Hazard, while his sister tries to eke out her own living in the desert. Makoto searches desperately for a way to return home, all the while fighting off the Bugrom, enlisting the help of the Holy Priestesses, and stopping the demon god Ifurita from destroying everything.  \\r\\n \\r\\n(Source: ANN)'"
      ]
     },
     "execution_count": 333,
     "metadata": {},
     "output_type": "execute_result"
    }
   ],
   "source": [
    "\n",
    "df2['Synopsis'][100]"
   ]
  },
  {
   "cell_type": "markdown",
   "id": "924561d3-7904-4364-9c87-7d806331e76f",
   "metadata": {},
   "source": [
    "\n"
   ]
  },
  {
   "cell_type": "markdown",
   "id": "e0e1f45f-4ec8-4978-be3b-ee71ac05f3be",
   "metadata": {},
   "source": [
    "\n",
    "## Synopsis"
   ]
  },
  {
   "cell_type": "markdown",
   "id": "c0efca86-dbe4-414d-9cc1-d7e8fa23d1a9",
   "metadata": {},
   "source": [
    "\n",
    "#### In Synopsis Column removing the special symbols"
   ]
  },
  {
   "cell_type": "markdown",
   "id": "e259af36-0791-49fa-a74a-ac3224feec96",
   "metadata": {},
   "source": [
    "\n"
   ]
  },
  {
   "cell_type": "code",
   "execution_count": 334,
   "id": "20078e15-2274-44f3-9aa6-0d3a09865cc7",
   "metadata": {},
   "outputs": [],
   "source": [
    "\n",
    "# Making a function\n",
    "def special_symbol(text):\n",
    "    text = re.sub('[^a-zA-Z]',' ',text)\n",
    "    return text\n",
    "\n",
    "df2['Synopsis'] = df2['Synopsis'].apply(special_symbol)\n"
   ]
  },
  {
   "cell_type": "code",
   "execution_count": 335,
   "id": "fee26e71-f70f-4748-98d7-21d32f62cd18",
   "metadata": {},
   "outputs": [
    {
     "data": {
      "text/plain": [
       "'In the year       humanity has colonized several of the planets and moons of the solar system leaving the now uninhabitable surface of planet Earth behind  The Inter Solar System Police attempts to keep peace in the galaxy  aided in part by outlaw bounty hunters  referred to as  Cowboys   The ragtag team aboard the spaceship Bebop are two such individuals        Mellow and carefree Spike Spiegel is balanced by his boisterous  pragmatic partner Jet Black as the pair makes a living chasing bounties and collecting rewards  Thrown off course by the addition of new members that they meet in their travels Ein  a genetically engineered  highly intelligent Welsh Corgi  femme fatale Faye Valentine  an enigmatic trickster with memory loss  and the strange computer whiz kid Edward Wong the crew embarks on thrilling adventures that unravel each member s dark and mysterious past little by little       Well balanced with high density action and light hearted comedy   Cowboy Bebop  is a space Western classic and an homage to the smooth and improvised music it is named after        Written by MAL Rewrite '"
      ]
     },
     "execution_count": 335,
     "metadata": {},
     "output_type": "execute_result"
    }
   ],
   "source": [
    "df2['Synopsis'][0]"
   ]
  },
  {
   "cell_type": "code",
   "execution_count": 336,
   "id": "365a7f26-2848-4512-9d3e-0761bde95af6",
   "metadata": {},
   "outputs": [
    {
     "data": {
      "text/plain": [
       "'Another day  another bounty such is the life of the often unlucky crew of the Bebop  However  this routine is interrupted when Faye  who is chasing a fairly worthless target on Mars  witnesses an oil tanker suddenly explode  causing mass hysteria  As casualties mount due to a strange disease spreading through the smoke from the blast  a whopping three hundred million woolong price is placed on the head of the supposed perpetrator       With lives at stake and a solution to their money problems in sight  the Bebop crew springs into action  Spike  Jet  Faye  and Edward  followed closely by Ein  split up to pursue different leads across Alba City  Through their individual investigations  they discover a cover up scheme involving a pharmaceutical company  revealing a plot that reaches much further than the ragtag team of bounty hunters could have realized        Written by MAL Rewrite '"
      ]
     },
     "execution_count": 336,
     "metadata": {},
     "output_type": "execute_result"
    }
   ],
   "source": [
    "df2['Synopsis'][1]"
   ]
  },
  {
   "cell_type": "markdown",
   "id": "e87b6573-4dee-44b3-9b9e-ee84d198fc7b",
   "metadata": {},
   "source": [
    "\n"
   ]
  },
  {
   "cell_type": "markdown",
   "id": "17eca4be-1188-4861-9469-abe19abd2dea",
   "metadata": {},
   "source": [
    "\n",
    "### Now removing the extra spaces"
   ]
  },
  {
   "cell_type": "markdown",
   "id": "dd6da38f-0e89-49d4-8336-9e7f0ba09746",
   "metadata": {},
   "source": [
    "\n"
   ]
  },
  {
   "cell_type": "code",
   "execution_count": 337,
   "id": "6061714d-4df9-47ab-af35-732a8284b168",
   "metadata": {},
   "outputs": [],
   "source": [
    "\n",
    "# Making a function\n",
    "def extra_space(text):\n",
    "    text = re.sub('\\s+[^a-zA-Z]\\s+','',text)\n",
    "    return text\n",
    "\n",
    "df2['Synopsis'] = df2['Synopsis'].apply(special_symbol)\n"
   ]
  },
  {
   "cell_type": "code",
   "execution_count": 338,
   "id": "86bc1ded-7386-4ede-8987-7ff3f38b039a",
   "metadata": {},
   "outputs": [
    {
     "data": {
      "text/plain": [
       "'In the year       humanity has colonized several of the planets and moons of the solar system leaving the now uninhabitable surface of planet Earth behind  The Inter Solar System Police attempts to keep peace in the galaxy  aided in part by outlaw bounty hunters  referred to as  Cowboys   The ragtag team aboard the spaceship Bebop are two such individuals        Mellow and carefree Spike Spiegel is balanced by his boisterous  pragmatic partner Jet Black as the pair makes a living chasing bounties and collecting rewards  Thrown off course by the addition of new members that they meet in their travels Ein  a genetically engineered  highly intelligent Welsh Corgi  femme fatale Faye Valentine  an enigmatic trickster with memory loss  and the strange computer whiz kid Edward Wong the crew embarks on thrilling adventures that unravel each member s dark and mysterious past little by little       Well balanced with high density action and light hearted comedy   Cowboy Bebop  is a space Western classic and an homage to the smooth and improvised music it is named after        Written by MAL Rewrite '"
      ]
     },
     "execution_count": 338,
     "metadata": {},
     "output_type": "execute_result"
    }
   ],
   "source": [
    "\n",
    "df2['Synopsis'][0]"
   ]
  },
  {
   "cell_type": "markdown",
   "id": "084efcbb-0ccd-4d07-994f-985bf8fe9841",
   "metadata": {},
   "source": [
    "\n"
   ]
  },
  {
   "cell_type": "markdown",
   "id": "410b1cf6-5afa-43f6-b8d2-2fe54c205493",
   "metadata": {},
   "source": [
    "\n",
    "## Removing the stopwords and converting into the lower case"
   ]
  },
  {
   "cell_type": "markdown",
   "id": "3f79584c-4527-4e80-acd3-eea60cc066a3",
   "metadata": {},
   "source": [
    "\n"
   ]
  },
  {
   "cell_type": "code",
   "execution_count": 339,
   "id": "891a5e61-bfc4-4700-8936-7f928543914c",
   "metadata": {},
   "outputs": [],
   "source": [
    "\n",
    "def preprocessing(text):\n",
    "    # converting into the lower case\n",
    "    text = text.lower()\n",
    "    # removing the stopwords\n",
    "    pattern = re.compile(r'\\b(' + '|'.join(stopwords.words('english')) + r')\\b\\s*')\n",
    "    text = re.sub(pattern,'',text)\n",
    "\n",
    "    return text\n",
    "\n",
    "df2['Synopsis'] = df2['Synopsis'].apply(preprocessing)\n"
   ]
  },
  {
   "cell_type": "code",
   "execution_count": 340,
   "id": "05be4932-fba2-45fc-b36f-7a56ce189ff4",
   "metadata": {},
   "outputs": [
    {
     "data": {
      "text/plain": [
       "'year       humanity colonized several planets moons solar system leaving uninhabitable surface planet earth behind  inter solar system police attempts keep peace galaxy  aided part outlaw bounty hunters  referred cowboys   ragtag team aboard spaceship bebop two individuals        mellow carefree spike spiegel balanced boisterous  pragmatic partner jet black pair makes living chasing bounties collecting rewards  thrown course addition new members meet travels ein  genetically engineered  highly intelligent welsh corgi  femme fatale faye valentine  enigmatic trickster memory loss  strange computer whiz kid edward wong crew embarks thrilling adventures unravel member dark mysterious past little little       well balanced high density action light hearted comedy   cowboy bebop  space western classic homage smooth improvised music named written mal rewrite '"
      ]
     },
     "execution_count": 340,
     "metadata": {},
     "output_type": "execute_result"
    }
   ],
   "source": [
    "\n",
    "df2['Synopsis'][0]"
   ]
  },
  {
   "cell_type": "code",
   "execution_count": 341,
   "id": "7333dc75-09ac-4e43-9ae7-4540977082c9",
   "metadata": {},
   "outputs": [
    {
     "data": {
      "text/plain": [
       "'makoto mizuhara working latest experiment school science lab  takes break lifelong rival katsuhiko jinnai shows attempts destroy device discredit makoto  overloads experiment transports makoto  jinnai  sister nanami  teacher mr  fujisawa strange magnificent world el hazard  makoto fujisawa land squarely kingdom roshtaria  quickly befriend princess rune venus  jinnai allies bugrom  race giant insects bent taking el hazard  sister tries eke living desert  makoto searches desperately way return home  fighting bugrom  enlisting help holy priestesses  stopping demon god ifurita destroying everything         source  ann '"
      ]
     },
     "execution_count": 341,
     "metadata": {},
     "output_type": "execute_result"
    }
   ],
   "source": [
    "\n",
    "df2['Synopsis'][100]"
   ]
  },
  {
   "cell_type": "markdown",
   "id": "3603dc9f-3d43-4a5a-ab66-bab9519899f3",
   "metadata": {},
   "source": [
    "\n"
   ]
  },
  {
   "cell_type": "markdown",
   "id": "4beac098-712e-4e2f-9e69-4e41b94db1b4",
   "metadata": {},
   "source": [
    "\n",
    "# Perform PorterStemmer"
   ]
  },
  {
   "cell_type": "code",
   "execution_count": 342,
   "id": "2a03b24c-e258-4e56-99ca-7d0191baf881",
   "metadata": {},
   "outputs": [],
   "source": [
    "\n",
    "ps = PorterStemmer()\n",
    "def using_porter(text):\n",
    "  return ' '.join([ps.stem(word) for word in text.split()])\n",
    "\n",
    "df2['Synopsis'] = df2['Synopsis'].apply(using_porter)\n"
   ]
  },
  {
   "cell_type": "code",
   "execution_count": 343,
   "id": "1442b40e-e2f4-4cf3-91e1-c4ff86929a68",
   "metadata": {},
   "outputs": [
    {
     "data": {
      "text/plain": [
       "array(['year human colon sever planet moon solar system leav uninhabit surfac planet earth behind inter solar system polic attempt keep peac galaxi aid part outlaw bounti hunter refer cowboy ragtag team aboard spaceship bebop two individu mellow carefre spike spiegel balanc boister pragmat partner jet black pair make live chase bounti collect reward thrown cours addit new member meet travel ein genet engin highli intellig welsh corgi femm fatal fay valentin enigmat trickster memori loss strang comput whiz kid edward wong crew embark thrill adventur unravel member dark mysteri past littl littl well balanc high densiti action light heart comedi cowboy bebop space western classic homag smooth improvis music name written mal rewrit',\n",
       "       'anoth day anoth bounti life often unlucki crew bebop howev routin interrupt fay chase fairli worthless target mar wit oil tanker suddenli explod caus mass hysteria casualti mount due strang diseas spread smoke blast whop three hundr million woolong price place head suppos perpetr live stake solut money problem sight bebop crew spring action spike jet fay edward follow close ein split pursu differ lead across alba citi individu investig discov cover scheme involv pharmaceut compani reveal plot reach much ragtag team bounti hunter could realiz written mal rewrit',\n",
       "       'vash stamped man bounti head reason merciless villain lay wast oppos flatten entir citi fun garner titl humanoid typhoon leav trail death destruct wherev goe anyon count dead much make eye contact rumor say actual vash huge softi claim never taken life avoid violenc cost crazi doughnut obsess buffoonish attitud tow vash travers wasteland planet gunsmok follow two insur agent meryl stryfe milli thompson attempt minim impact public soon misadventur evolv life death situat group legendari assassin summon bring suffer trio vash agon past unravel moral principl push break point written mal rewrit',\n",
       "       ..., 'pair shoe left shoe anim object excit use boy take dog walk',\n",
       "       'third season golden kamuy',\n",
       "       'japan viru infect human throughout world infect peopl turn differ form monster base age sex race viru name gibia rich varieti like gibia pair samurai ninja appear blight wasteland japan travel earli edo period fight togeth help doctor tri find cure gibia face ceaseless attack gibia outlaw attack travel food start danger journey enemi around sourc offici websit'],\n",
       "      dtype=object)"
      ]
     },
     "execution_count": 343,
     "metadata": {},
     "output_type": "execute_result"
    }
   ],
   "source": [
    "\n",
    "df2['Synopsis'].unique()"
   ]
  },
  {
   "cell_type": "code",
   "execution_count": 344,
   "id": "3b3f4daf-d91e-4c2d-adc3-3dfc39eab185",
   "metadata": {},
   "outputs": [
    {
     "data": {
      "text/plain": [
       "'moment prior naruto uzumaki birth huge demon known kyuubi nine tail fox attack konohagakur hidden leaf villag wreak havoc order put end kyuubi rampag leader villag fourth hokag sacrif life seal monstrou beast insid newborn naruto naruto hyperact knuckl head ninja still live konohagakur shun kyuubi insid naruto struggl find place villag burn desir becom hokag konohagakur lead great new friend also deadli foe written mal rewrit'"
      ]
     },
     "execution_count": 344,
     "metadata": {},
     "output_type": "execute_result"
    }
   ],
   "source": [
    "\n",
    "df2['Synopsis'][10]"
   ]
  },
  {
   "cell_type": "markdown",
   "id": "0c161e4d-81ce-4c6e-8406-6bb38b726472",
   "metadata": {},
   "source": [
    "\n"
   ]
  },
  {
   "cell_type": "code",
   "execution_count": 345,
   "id": "49fb9a4d-661e-411b-8cab-e36a16467230",
   "metadata": {},
   "outputs": [
    {
     "data": {
      "text/plain": [
       "'take place mere month saber marionett j ova seri newest instal saber marionett line follow continu adventur otaru clan selfless obsess marionett girl time evil faust back toy marionett technolog never meant explor saber doll back torn newfound love otaru undi loyalti faust otaru lime cherri bloodberri abl stop faust head scrap heap sourc anidb'"
      ]
     },
     "execution_count": 345,
     "metadata": {},
     "output_type": "execute_result"
    }
   ],
   "source": [
    "\n",
    "df2['Synopsis'][1000]"
   ]
  },
  {
   "cell_type": "markdown",
   "id": "04ba3a7f-cf52-45e5-b644-39c3fee70cc2",
   "metadata": {},
   "source": [
    "\n"
   ]
  },
  {
   "cell_type": "markdown",
   "id": "52ea9251-7813-4dd8-bec4-d3d3e985c64c",
   "metadata": {},
   "source": [
    "\n",
    "## Show top 5"
   ]
  },
  {
   "cell_type": "markdown",
   "id": "fbebff82-9b1f-4a64-a5ba-fd8ccc5e566a",
   "metadata": {},
   "source": [
    "\n"
   ]
  },
  {
   "cell_type": "code",
   "execution_count": 346,
   "id": "f9a20384-4e71-4dd9-af4a-cbeae915bf78",
   "metadata": {},
   "outputs": [
    {
     "data": {
      "text/html": [
       "<div>\n",
       "<style scoped>\n",
       "    .dataframe tbody tr th:only-of-type {\n",
       "        vertical-align: middle;\n",
       "    }\n",
       "\n",
       "    .dataframe tbody tr th {\n",
       "        vertical-align: top;\n",
       "    }\n",
       "\n",
       "    .dataframe thead th {\n",
       "        text-align: right;\n",
       "    }\n",
       "</style>\n",
       "<table border=\"1\" class=\"dataframe\">\n",
       "  <thead>\n",
       "    <tr style=\"text-align: right;\">\n",
       "      <th></th>\n",
       "      <th>Title</th>\n",
       "      <th>Genre</th>\n",
       "      <th>Synopsis</th>\n",
       "      <th>Type</th>\n",
       "    </tr>\n",
       "  </thead>\n",
       "  <tbody>\n",
       "    <tr>\n",
       "      <th>0</th>\n",
       "      <td>Cowboy Bebop</td>\n",
       "      <td>['Action', 'Adventure', 'Comedy', 'Drama', 'Sc...</td>\n",
       "      <td>year human colon sever planet moon solar syste...</td>\n",
       "      <td>TV</td>\n",
       "    </tr>\n",
       "    <tr>\n",
       "      <th>1</th>\n",
       "      <td>Cowboy Bebop: Tengoku no Tobira</td>\n",
       "      <td>['Action', 'Space', 'Drama', 'Mystery', 'Sci-Fi']</td>\n",
       "      <td>anoth day anoth bounti life often unlucki crew...</td>\n",
       "      <td>Movie</td>\n",
       "    </tr>\n",
       "    <tr>\n",
       "      <th>2</th>\n",
       "      <td>Trigun</td>\n",
       "      <td>['Action', 'Sci-Fi', 'Adventure', 'Comedy', 'D...</td>\n",
       "      <td>vash stamped man bounti head reason merciless ...</td>\n",
       "      <td>TV</td>\n",
       "    </tr>\n",
       "    <tr>\n",
       "      <th>3</th>\n",
       "      <td>Witch Hunter Robin</td>\n",
       "      <td>['Action', 'Magic', 'Police', 'Supernatural', ...</td>\n",
       "      <td>witch individu special power like esp telekine...</td>\n",
       "      <td>TV</td>\n",
       "    </tr>\n",
       "    <tr>\n",
       "      <th>4</th>\n",
       "      <td>Bouken Ou Beet</td>\n",
       "      <td>['Adventure', 'Fantasy', 'Shounen', 'Supernatu...</td>\n",
       "      <td>dark centuri peopl suffer rule devil vandel ab...</td>\n",
       "      <td>TV</td>\n",
       "    </tr>\n",
       "  </tbody>\n",
       "</table>\n",
       "</div>"
      ],
      "text/plain": [
       "                             Title  \\\n",
       "0                     Cowboy Bebop   \n",
       "1  Cowboy Bebop: Tengoku no Tobira   \n",
       "2                           Trigun   \n",
       "3               Witch Hunter Robin   \n",
       "4                   Bouken Ou Beet   \n",
       "\n",
       "                                               Genre  \\\n",
       "0  ['Action', 'Adventure', 'Comedy', 'Drama', 'Sc...   \n",
       "1  ['Action', 'Space', 'Drama', 'Mystery', 'Sci-Fi']   \n",
       "2  ['Action', 'Sci-Fi', 'Adventure', 'Comedy', 'D...   \n",
       "3  ['Action', 'Magic', 'Police', 'Supernatural', ...   \n",
       "4  ['Adventure', 'Fantasy', 'Shounen', 'Supernatu...   \n",
       "\n",
       "                                            Synopsis   Type  \n",
       "0  year human colon sever planet moon solar syste...     TV  \n",
       "1  anoth day anoth bounti life often unlucki crew...  Movie  \n",
       "2  vash stamped man bounti head reason merciless ...     TV  \n",
       "3  witch individu special power like esp telekine...     TV  \n",
       "4  dark centuri peopl suffer rule devil vandel ab...     TV  "
      ]
     },
     "execution_count": 346,
     "metadata": {},
     "output_type": "execute_result"
    }
   ],
   "source": [
    "\n",
    "df2.head()"
   ]
  },
  {
   "cell_type": "markdown",
   "id": "0f5b0a23-31e7-4328-a86b-7f1c434e9486",
   "metadata": {},
   "source": [
    "\n"
   ]
  },
  {
   "cell_type": "code",
   "execution_count": 347,
   "id": "1f6946de-15b2-45a5-b9a6-7c1f601aec2d",
   "metadata": {},
   "outputs": [
    {
     "data": {
      "text/plain": [
       "array(['TV', 'Movie', 'OVA', 'Special', 'ONA', 'Music', 'Unknown'],\n",
       "      dtype=object)"
      ]
     },
     "execution_count": 347,
     "metadata": {},
     "output_type": "execute_result"
    }
   ],
   "source": [
    "\n",
    "df2['Type'].unique()"
   ]
  },
  {
   "cell_type": "code",
   "execution_count": 348,
   "id": "5ab84ef1-7938-4575-8c01-3d67d819b225",
   "metadata": {},
   "outputs": [
    {
     "data": {
      "text/plain": [
       "Type\n",
       "TV         4061\n",
       "OVA        3218\n",
       "Movie      2303\n",
       "Special    1831\n",
       "ONA        1223\n",
       "Music      1023\n",
       "Unknown      30\n",
       "Name: count, dtype: int64"
      ]
     },
     "execution_count": 348,
     "metadata": {},
     "output_type": "execute_result"
    }
   ],
   "source": [
    "\n",
    "df2['Type'].value_counts()"
   ]
  },
  {
   "cell_type": "markdown",
   "id": "7d6fbde4-4020-42e0-9b05-7c0b6969f3c5",
   "metadata": {},
   "source": [
    "\n"
   ]
  },
  {
   "cell_type": "code",
   "execution_count": 349,
   "id": "1ce8d5a4-e61a-481c-af49-e4ad48a5f3f7",
   "metadata": {},
   "outputs": [
    {
     "data": {
      "image/png": "[encoded data removed]",
      "text/plain": [
       "<Figure size 640x480 with 1 Axes>"
      ]
     },
     "metadata": {},
     "output_type": "display_data"
    }
   ],
   "source": [
    "\n",
    "df2['Type'].value_counts().plot(kind='bar')\n",
    "plt.xlabel('Type',size=22)\n",
    "plt.ylabel('Count',size=22)\n",
    "plt.show()\n"
   ]
  },
  {
   "cell_type": "markdown",
   "id": "bcec7b7f-f20d-4896-b1a3-8d4d4a4c87f9",
   "metadata": {},
   "source": [
    "\n"
   ]
  },
  {
   "cell_type": "markdown",
   "id": "4050103a-5e06-47fe-995a-f54f1e9c0f97",
   "metadata": {},
   "source": [
    "\n",
    "### Using the AST technique to convert Genre column into the list"
   ]
  },
  {
   "cell_type": "code",
   "execution_count": 350,
   "id": "d5b82924-3a7d-4222-9f30-277e698bbf50",
   "metadata": {},
   "outputs": [
    {
     "data": {
      "text/plain": [
       "0        [Action, Adventure, Comedy, Drama, Sci-Fi, Space]\n",
       "1                  [Action, Space, Drama, Mystery, Sci-Fi]\n",
       "2        [Action, Sci-Fi, Adventure, Comedy, Drama, Sho...\n",
       "3        [Action, Magic, Police, Supernatural, Drama, M...\n",
       "4              [Adventure, Fantasy, Shounen, Supernatural]\n",
       "                               ...                        \n",
       "15061          [Action, Adventure, Fantasy, Sci-Fi, Space]\n",
       "15063                                        [Kids, Music]\n",
       "15064                                        [Kids, Music]\n",
       "15065      [Action, Adventure, Comedy, Historical, Seinen]\n",
       "15074     [Action, Fantasy, Horror, Martial Arts, Samurai]\n",
       "Name: Genre, Length: 13689, dtype: object"
      ]
     },
     "execution_count": 350,
     "metadata": {},
     "output_type": "execute_result"
    }
   ],
   "source": [
    "\n",
    "def ast_function(text):\n",
    "    text = ast.literal_eval(text)\n",
    "    return text\n",
    "    \n",
    "df2['Genre'] = df2['Genre'].apply(ast_function)\n",
    "df2['Genre']\n"
   ]
  },
  {
   "cell_type": "code",
   "execution_count": 351,
   "id": "7871aa59-f624-4403-b98d-d3e3c07fa0e0",
   "metadata": {},
   "outputs": [
    {
     "data": {
      "text/plain": [
       "['Action', 'Adventure', 'Comedy', 'Super Power', 'Martial Arts', 'Shounen']"
      ]
     },
     "execution_count": 351,
     "metadata": {},
     "output_type": "execute_result"
    }
   ],
   "source": [
    "\n",
    "df2['Genre'][10]"
   ]
  },
  {
   "cell_type": "markdown",
   "id": "e57c5a69-ccf3-4f6c-ad3c-9ee742ad6961",
   "metadata": {},
   "source": [
    "\n",
    "### Removing the extra space between the mid words"
   ]
  },
  {
   "cell_type": "code",
   "execution_count": 352,
   "id": "7411c63e-798d-429f-879f-00133bf725b8",
   "metadata": {},
   "outputs": [
    {
     "data": {
      "text/plain": [
       "0        [Action, Adventure, Comedy, Drama, Sci-Fi, Space]\n",
       "1                  [Action, Space, Drama, Mystery, Sci-Fi]\n",
       "2        [Action, Sci-Fi, Adventure, Comedy, Drama, Sho...\n",
       "3        [Action, Magic, Police, Supernatural, Drama, M...\n",
       "4              [Adventure, Fantasy, Shounen, Supernatural]\n",
       "                               ...                        \n",
       "15061          [Action, Adventure, Fantasy, Sci-Fi, Space]\n",
       "15063                                        [Kids, Music]\n",
       "15064                                        [Kids, Music]\n",
       "15065      [Action, Adventure, Comedy, Historical, Seinen]\n",
       "15074      [Action, Fantasy, Horror, MartialArts, Samurai]\n",
       "Name: Genre, Length: 13689, dtype: object"
      ]
     },
     "execution_count": 352,
     "metadata": {},
     "output_type": "execute_result"
    }
   ],
   "source": [
    "\n",
    "df2['Genre']=df2['Genre'].apply(lambda x:[i.replace(' ','') for i in x])\n",
    "df2['Genre']"
   ]
  },
  {
   "cell_type": "markdown",
   "id": "5a9779bb-31d2-4de9-b8d2-8acfc7db87c7",
   "metadata": {},
   "source": [
    "\n",
    "### Converting the list into string"
   ]
  },
  {
   "cell_type": "code",
   "execution_count": 353,
   "id": "57701f4a-6dfc-4a83-91f8-47d06b2c9472",
   "metadata": {},
   "outputs": [
    {
     "data": {
      "text/plain": [
       "0            Action Adventure Comedy Drama Sci-Fi Space\n",
       "1                     Action Space Drama Mystery Sci-Fi\n",
       "2          Action Sci-Fi Adventure Comedy Drama Shounen\n",
       "3        Action Magic Police Supernatural Drama Mystery\n",
       "4                Adventure Fantasy Shounen Supernatural\n",
       "                              ...                      \n",
       "15061             Action Adventure Fantasy Sci-Fi Space\n",
       "15063                                        Kids Music\n",
       "15064                                        Kids Music\n",
       "15065         Action Adventure Comedy Historical Seinen\n",
       "15074         Action Fantasy Horror MartialArts Samurai\n",
       "Name: Genre, Length: 13689, dtype: object"
      ]
     },
     "execution_count": 353,
     "metadata": {},
     "output_type": "execute_result"
    }
   ],
   "source": [
    "\n",
    "df2['Genre'] = df2['Genre'].apply(lambda x: ' '.join(x))\n",
    "df2['Genre']"
   ]
  },
  {
   "cell_type": "markdown",
   "id": "c7047a84-d2c6-4778-9434-c120ba028edf",
   "metadata": {},
   "source": [
    "\n",
    "## Combine the Genre, Synopsis and Type Columns"
   ]
  },
  {
   "cell_type": "code",
   "execution_count": 354,
   "id": "2678e5ba-9aeb-43b0-a901-9b630fab218c",
   "metadata": {},
   "outputs": [],
   "source": [
    "\n",
    "df2['tags'] = df2['Genre']+df2['Synopsis']+df2['Type']"
   ]
  },
  {
   "cell_type": "code",
   "execution_count": 355,
   "id": "d82200b9-40aa-419d-9226-51873a3183f4",
   "metadata": {},
   "outputs": [
    {
     "data": {
      "text/plain": [
       "0        Action Adventure Comedy Drama Sci-Fi Spaceyear...\n",
       "1        Action Space Drama Mystery Sci-Fianoth day ano...\n",
       "2        Action Sci-Fi Adventure Comedy Drama Shounenva...\n",
       "3        Action Magic Police Supernatural Drama Mystery...\n",
       "4        Adventure Fantasy Shounen Supernaturaldark cen...\n",
       "                               ...                        \n",
       "15061    Action Adventure Fantasy Sci-Fi Spaceorbit era...\n",
       "15063    Kids Musicakai hana shiroi hana song origin cr...\n",
       "15064    Kids Musicpair shoe left shoe anim object exci...\n",
       "15065    Action Adventure Comedy Historical Seinenthird...\n",
       "15074    Action Fantasy Horror MartialArts Samuraijapan...\n",
       "Name: tags, Length: 13689, dtype: object"
      ]
     },
     "execution_count": 355,
     "metadata": {},
     "output_type": "execute_result"
    }
   ],
   "source": [
    "df2['tags']"
   ]
  },
  {
   "cell_type": "markdown",
   "id": "b273ac80-189f-4228-9d4c-79f4d021f4b0",
   "metadata": {},
   "source": [
    "\n"
   ]
  },
  {
   "cell_type": "markdown",
   "id": "0eea9c73-a788-4ac5-86dc-63cc5fc73b48",
   "metadata": {},
   "source": [
    "\n",
    "### Now Removing all the waste column"
   ]
  },
  {
   "cell_type": "code",
   "execution_count": 356,
   "id": "149ee748-c8f7-46c5-9e5f-56dfb482f2d0",
   "metadata": {},
   "outputs": [],
   "source": [
    "\n",
    "df3 = df2[['Title','tags']]"
   ]
  },
  {
   "cell_type": "markdown",
   "id": "f7063b2f-c2db-468d-8253-cab7076c7d43",
   "metadata": {},
   "source": [
    "\n"
   ]
  },
  {
   "cell_type": "markdown",
   "id": "23595d04-7bbd-4923-a620-e931ee3ec02a",
   "metadata": {},
   "source": [
    "\n",
    "# Show top 5 rows"
   ]
  },
  {
   "cell_type": "code",
   "execution_count": 357,
   "id": "4aa6990e-db7b-4545-8182-53350fba4bcd",
   "metadata": {},
   "outputs": [
    {
     "data": {
      "text/html": [
       "<div>\n",
       "<style scoped>\n",
       "    .dataframe tbody tr th:only-of-type {\n",
       "        vertical-align: middle;\n",
       "    }\n",
       "\n",
       "    .dataframe tbody tr th {\n",
       "        vertical-align: top;\n",
       "    }\n",
       "\n",
       "    .dataframe thead th {\n",
       "        text-align: right;\n",
       "    }\n",
       "</style>\n",
       "<table border=\"1\" class=\"dataframe\">\n",
       "  <thead>\n",
       "    <tr style=\"text-align: right;\">\n",
       "      <th></th>\n",
       "      <th>Title</th>\n",
       "      <th>tags</th>\n",
       "    </tr>\n",
       "  </thead>\n",
       "  <tbody>\n",
       "    <tr>\n",
       "      <th>0</th>\n",
       "      <td>Cowboy Bebop</td>\n",
       "      <td>Action Adventure Comedy Drama Sci-Fi Spaceyear...</td>\n",
       "    </tr>\n",
       "    <tr>\n",
       "      <th>1</th>\n",
       "      <td>Cowboy Bebop: Tengoku no Tobira</td>\n",
       "      <td>Action Space Drama Mystery Sci-Fianoth day ano...</td>\n",
       "    </tr>\n",
       "    <tr>\n",
       "      <th>2</th>\n",
       "      <td>Trigun</td>\n",
       "      <td>Action Sci-Fi Adventure Comedy Drama Shounenva...</td>\n",
       "    </tr>\n",
       "    <tr>\n",
       "      <th>3</th>\n",
       "      <td>Witch Hunter Robin</td>\n",
       "      <td>Action Magic Police Supernatural Drama Mystery...</td>\n",
       "    </tr>\n",
       "    <tr>\n",
       "      <th>4</th>\n",
       "      <td>Bouken Ou Beet</td>\n",
       "      <td>Adventure Fantasy Shounen Supernaturaldark cen...</td>\n",
       "    </tr>\n",
       "  </tbody>\n",
       "</table>\n",
       "</div>"
      ],
      "text/plain": [
       "                             Title  \\\n",
       "0                     Cowboy Bebop   \n",
       "1  Cowboy Bebop: Tengoku no Tobira   \n",
       "2                           Trigun   \n",
       "3               Witch Hunter Robin   \n",
       "4                   Bouken Ou Beet   \n",
       "\n",
       "                                                tags  \n",
       "0  Action Adventure Comedy Drama Sci-Fi Spaceyear...  \n",
       "1  Action Space Drama Mystery Sci-Fianoth day ano...  \n",
       "2  Action Sci-Fi Adventure Comedy Drama Shounenva...  \n",
       "3  Action Magic Police Supernatural Drama Mystery...  \n",
       "4  Adventure Fantasy Shounen Supernaturaldark cen...  "
      ]
     },
     "execution_count": 357,
     "metadata": {},
     "output_type": "execute_result"
    }
   ],
   "source": [
    "\n",
    "df3.head()"
   ]
  },
  {
   "cell_type": "markdown",
   "id": "30dbadb6-1561-4bdf-a290-ccf3bea99120",
   "metadata": {},
   "source": [
    "\n"
   ]
  },
  {
   "cell_type": "markdown",
   "id": "98044d58-94d2-4ec8-83ac-ef3624b5f580",
   "metadata": {},
   "source": [
    "\n",
    "### Ones more droping the duplicated value"
   ]
  },
  {
   "cell_type": "code",
   "execution_count": 358,
   "id": "d9508fc9-1669-4383-8e79-48f75868e28f",
   "metadata": {},
   "outputs": [
    {
     "data": {
      "text/plain": [
       "42"
      ]
     },
     "execution_count": 358,
     "metadata": {},
     "output_type": "execute_result"
    }
   ],
   "source": [
    "df3.duplicated().sum()"
   ]
  },
  {
   "cell_type": "code",
   "execution_count": 359,
   "id": "3afe7e63-94e6-473b-8ddc-f783cf4de5fa",
   "metadata": {},
   "outputs": [
    {
     "name": "stdout",
     "output_type": "stream",
     "text": [
      "After removing duplicated rows: 0\n"
     ]
    }
   ],
   "source": [
    "df3.drop_duplicates(inplace=True)\n",
    "print(f\"After removing duplicated rows: {df3.duplicated().sum()}\")"
   ]
  },
  {
   "cell_type": "markdown",
   "id": "5d848de8-8b5a-4e2d-adf3-df57fd3a7859",
   "metadata": {},
   "source": [
    "\n"
   ]
  },
  {
   "cell_type": "markdown",
   "id": "81cc8757-91f4-4075-aba8-153665a9dad0",
   "metadata": {},
   "source": [
    "\n",
    "# Using the Bag of words (countvectorizer)"
   ]
  },
  {
   "cell_type": "markdown",
   "id": "f217dba7-6ac6-48fb-964a-44ad389afa15",
   "metadata": {},
   "source": [
    "\n"
   ]
  },
  {
   "cell_type": "code",
   "execution_count": 360,
   "id": "08bce49b-7721-4e7f-8105-8954d7262804",
   "metadata": {},
   "outputs": [],
   "source": [
    "\n",
    "count = CountVectorizer(max_features=6000)\n",
    "vectores = count.fit_transform(df3['tags']).toarray()\n"
   ]
  },
  {
   "cell_type": "code",
   "execution_count": 361,
   "id": "d632d9c9-17d2-4f98-9d9e-40fa557d3c71",
   "metadata": {},
   "outputs": [
    {
     "data": {
      "text/plain": [
       "array([[0, 0, 0, ..., 0, 0, 0],\n",
       "       [0, 0, 0, ..., 0, 0, 0],\n",
       "       [0, 0, 0, ..., 0, 0, 0],\n",
       "       ...,\n",
       "       [0, 0, 0, ..., 0, 0, 0],\n",
       "       [0, 0, 0, ..., 0, 0, 0],\n",
       "       [0, 0, 0, ..., 0, 0, 0]], dtype=int64)"
      ]
     },
     "execution_count": 361,
     "metadata": {},
     "output_type": "execute_result"
    }
   ],
   "source": [
    "\n",
    "vectores"
   ]
  },
  {
   "cell_type": "code",
   "execution_count": 362,
   "id": "207f0bbb-a648-4211-a74e-0414478ebcf5",
   "metadata": {},
   "outputs": [
    {
     "data": {
      "text/plain": [
       "array(['abandon', 'abduct', 'abe', ..., 'zoo', 'zoro', 'zorori'],\n",
       "      dtype=object)"
      ]
     },
     "execution_count": 362,
     "metadata": {},
     "output_type": "execute_result"
    }
   ],
   "source": [
    "\n",
    "count.get_feature_names_out()"
   ]
  },
  {
   "cell_type": "markdown",
   "id": "83a8a751-dfb7-40d5-ba6a-5444fa7f9477",
   "metadata": {},
   "source": [
    "\n"
   ]
  },
  {
   "cell_type": "markdown",
   "id": "9dd78ef7-47bc-48a8-8f25-c998088c93fc",
   "metadata": {},
   "source": [
    "\n",
    "### Similarity"
   ]
  },
  {
   "cell_type": "code",
   "execution_count": 363,
   "id": "26e2d980-7fc9-4f18-b97d-0f0a93318b96",
   "metadata": {},
   "outputs": [
    {
     "data": {
      "text/plain": [
       "array([[1.        , 0.26653374, 0.19367338, ..., 0.        , 0.14664712,\n",
       "        0.09051256],\n",
       "       [0.26653374, 1.        , 0.16002352, ..., 0.        , 0.08654846,\n",
       "        0.04006415],\n",
       "       [0.19367338, 0.16002352, 1.        , ..., 0.        , 0.13206764,\n",
       "        0.0271713 ],\n",
       "       ...,\n",
       "       [0.        , 0.        , 0.        , ..., 1.        , 0.        ,\n",
       "        0.        ],\n",
       "       [0.14664712, 0.08654846, 0.13206764, ..., 0.        , 1.        ,\n",
       "        0.05143445],\n",
       "       [0.09051256, 0.04006415, 0.0271713 , ..., 0.        , 0.05143445,\n",
       "        1.        ]])"
      ]
     },
     "execution_count": 363,
     "metadata": {},
     "output_type": "execute_result"
    }
   ],
   "source": [
    "similar = cosine_similarity(vectores)\n",
    "similar"
   ]
  },
  {
   "cell_type": "markdown",
   "id": "947043c5-363f-43b3-9215-4715039d8557",
   "metadata": {},
   "source": [
    "\n"
   ]
  },
  {
   "cell_type": "markdown",
   "id": "0b1c0ab9-1aa5-4da6-8fd7-205a025aaea3",
   "metadata": {},
   "source": [
    "\n",
    "### Making a function"
   ]
  },
  {
   "cell_type": "code",
   "execution_count": 364,
   "id": "becc4e74-88ce-4426-bb89-154949508fa8",
   "metadata": {},
   "outputs": [],
   "source": [
    "\n",
    "def Recommander(movie_title):\n",
    "    anime_id = df3[df3['Title']==movie_title].index[0]\n",
    "    distance = similar[anime_id]\n",
    "    top_anime = sorted(list(enumerate(distance)),reverse=True,key=lambda x:x[1])[1:6]\n",
    "\n",
    "    for i in top_anime:\n",
    "        print(df3.iloc[i[0]].Title)"
   ]
  },
  {
   "cell_type": "code",
   "execution_count": 367,
   "id": "72d2ec2a-c7e2-4758-8d9d-d05888711dc7",
   "metadata": {},
   "outputs": [
    {
     "name": "stdout",
     "output_type": "stream",
     "text": [
      "Witch Craft Works: Takamiya-kun to Imouto no Warudakumi\n",
      "Ojamajo Doremi\n",
      "Ojamajo Doremi Dokkaan!\n",
      "Zero kara Hajimeru Mahou no Sho\n",
      "Ling Qi 2\n"
     ]
    }
   ],
   "source": [
    "Recommander('Witch Hunter Robin')"
   ]
  },
  {
   "cell_type": "code",
   "execution_count": 366,
   "id": "e6e47275-7c33-46a6-a3c4-36bd58d9ff45",
   "metadata": {},
   "outputs": [
    {
     "data": {
      "text/html": [
       "<div>\n",
       "<style scoped>\n",
       "    .dataframe tbody tr th:only-of-type {\n",
       "        vertical-align: middle;\n",
       "    }\n",
       "\n",
       "    .dataframe tbody tr th {\n",
       "        vertical-align: top;\n",
       "    }\n",
       "\n",
       "    .dataframe thead th {\n",
       "        text-align: right;\n",
       "    }\n",
       "</style>\n",
       "<table border=\"1\" class=\"dataframe\">\n",
       "  <thead>\n",
       "    <tr style=\"text-align: right;\">\n",
       "      <th></th>\n",
       "      <th>Title</th>\n",
       "      <th>tags</th>\n",
       "    </tr>\n",
       "  </thead>\n",
       "  <tbody>\n",
       "    <tr>\n",
       "      <th>0</th>\n",
       "      <td>Cowboy Bebop</td>\n",
       "      <td>Action Adventure Comedy Drama Sci-Fi Spaceyear...</td>\n",
       "    </tr>\n",
       "    <tr>\n",
       "      <th>1</th>\n",
       "      <td>Cowboy Bebop: Tengoku no Tobira</td>\n",
       "      <td>Action Space Drama Mystery Sci-Fianoth day ano...</td>\n",
       "    </tr>\n",
       "    <tr>\n",
       "      <th>2</th>\n",
       "      <td>Trigun</td>\n",
       "      <td>Action Sci-Fi Adventure Comedy Drama Shounenva...</td>\n",
       "    </tr>\n",
       "    <tr>\n",
       "      <th>3</th>\n",
       "      <td>Witch Hunter Robin</td>\n",
       "      <td>Action Magic Police Supernatural Drama Mystery...</td>\n",
       "    </tr>\n",
       "    <tr>\n",
       "      <th>4</th>\n",
       "      <td>Bouken Ou Beet</td>\n",
       "      <td>Adventure Fantasy Shounen Supernaturaldark cen...</td>\n",
       "    </tr>\n",
       "  </tbody>\n",
       "</table>\n",
       "</div>"
      ],
      "text/plain": [
       "                             Title  \\\n",
       "0                     Cowboy Bebop   \n",
       "1  Cowboy Bebop: Tengoku no Tobira   \n",
       "2                           Trigun   \n",
       "3               Witch Hunter Robin   \n",
       "4                   Bouken Ou Beet   \n",
       "\n",
       "                                                tags  \n",
       "0  Action Adventure Comedy Drama Sci-Fi Spaceyear...  \n",
       "1  Action Space Drama Mystery Sci-Fianoth day ano...  \n",
       "2  Action Sci-Fi Adventure Comedy Drama Shounenva...  \n",
       "3  Action Magic Police Supernatural Drama Mystery...  \n",
       "4  Adventure Fantasy Shounen Supernaturaldark cen...  "
      ]
     },
     "execution_count": 366,
     "metadata": {},
     "output_type": "execute_result"
    }
   ],
   "source": [
    "\n",
    "df3.head()"
   ]
  },
  {
   "cell_type": "code",
   "execution_count": null,
   "id": "740af939-01a5-4234-97a4-cb3034346e18",
   "metadata": {},
   "outputs": [],
   "source": []
  }
 ],
 "metadata": {
  "kernelspec": {
   "display_name": "Python 3 (ipykernel)",
   "language": "python",
   "name": "python3"
  },
  "language_info": {
   "codemirror_mode": {
    "name": "ipython",
    "version": 3
   },
   "file_extension": ".py",
   "mimetype": "text/x-python",
   "name": "python",
   "nbconvert_exporter": "python",
   "pygments_lexer": "ipython3",
   "version": "3.12.4"
  }
 },
 "nbformat": 4,
 "nbformat_minor": 5
}
